{
  "nbformat": 4,
  "nbformat_minor": 0,
  "metadata": {
    "colab": {
      "provenance": [],
      "toc_visible": true,
      "authorship_tag": "ABX9TyM/Wt/fPG1kj+r2z6+kdPGt",
      "include_colab_link": true
    },
    "kernelspec": {
      "name": "python3",
      "display_name": "Python 3"
    },
    "language_info": {
      "name": "python"
    }
  },
  "cells": [
    {
      "cell_type": "markdown",
      "metadata": {
        "id": "view-in-github",
        "colab_type": "text"
      },
      "source": [
        "<a href=\"https://colab.research.google.com/github/aryshiddiqi/reinforcement-learning/blob/master/Reinforcement_Learning.ipynb\" target=\"_parent\"><img src=\"https://colab.research.google.com/assets/colab-badge.svg\" alt=\"Open In Colab\"/></a>"
      ]
    },
    {
      "cell_type": "code",
      "execution_count": null,
      "metadata": {
        "id": "Nmq6HTNYts-T"
      },
      "outputs": [],
      "source": [
        "import os\n",
        "\n",
        "# List of dependencies with versions\n",
        "dependencies = [\n",
        "    \"Keras==2.0.3\",\n",
        "    \"numpy==1.12.1\",\n",
        "    \"pandas==0.19.2\",\n",
        "    \"matplotlib==2.0.0\",\n",
        "    \"tensorflow==1.0.0\",\n",
        "    \"Pillow==4.1.0\",\n",
        "    \"gym==0.8.1\",\n",
        "    \"h5py==2.7.0\",\n",
        "    \"scikit-image==0.13.0\"\n",
        "]\n",
        "\n",
        "# Install each dependency\n",
        "for dependency in dependencies:\n",
        "    os.system(f\"pip install {dependency}\")\n"
      ]
    },
    {
      "cell_type": "code",
      "source": [
        "#Implementing Softmax\n",
        "import numpy as np\n",
        "\n",
        "def softmax(xs):\n",
        "    return np.exp(xs) / sum(np.exp(xs))\n",
        "\n",
        "xs = np.array([-1, 0, 3, 5])\n",
        "print(softmax(xs)) # [0.0021657, 0.00588697, 0.11824302, 0.87370431]"
      ],
      "metadata": {
        "id": "NbJXjC_qyzbj",
        "outputId": "f0ca4ad9-7e65-4269-d8ba-b39e7cda8168",
        "colab": {
          "base_uri": "https://localhost:8080/"
        }
      },
      "execution_count": 8,
      "outputs": [
        {
          "output_type": "stream",
          "name": "stdout",
          "text": [
            "[0.0021657  0.00588697 0.11824302 0.87370431]\n"
          ]
        }
      ]
    }
  ]
}